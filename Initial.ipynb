{
 "cells": [
  {
   "cell_type": "code",
   "execution_count": 12,
   "metadata": {},
   "outputs": [],
   "source": [
    "import torch\n",
    "import torch.nn as nn\n",
    "import torch.optim as optim\n",
    "import numpy as np\n",
    "import matplotlib.pyplot as plt\n",
    "\n",
    "from sklearn.metrics import accuracy_score"
   ]
  },
  {
   "cell_type": "code",
   "execution_count": 13,
   "metadata": {},
   "outputs": [],
   "source": [
    "from torchvision.datasets import MNIST"
   ]
  },
  {
   "cell_type": "code",
   "execution_count": 14,
   "metadata": {},
   "outputs": [
    {
     "name": "stdout",
     "output_type": "stream",
     "text": [
      "yes\n"
     ]
    }
   ],
   "source": [
    "#Get data\n",
    "\n",
    "\n",
    "mnist_trainset = MNIST(\"MNIST/\", train=True, download=False)\n",
    "mnist_testset = MNIST(\"MNIST/\", train=False, download=True)\n",
    "\n",
    "\n",
    "\n",
    "#Reduce size of datasets for easier handling: \n",
    "\n",
    "train_size = 3000\n",
    "valid_size = 1500\n",
    "test_size = 1500\n",
    "\n",
    "\n",
    "x_train = mnist_trainset.data[:train_size].reshape(train_size,1,28,28).float()\n",
    "y_train = mnist_trainset.targets[:train_size]\n",
    "\n",
    "\n",
    "\n",
    "\n",
    "x_valid = mnist_trainset.data[train_size:train_size+valid_size].reshape(valid_size,1,28,28).float()\n",
    "y_valid = mnist_trainset.targets[train_size:train_size+valid_size]\n",
    "\n",
    "\n",
    "x_test = mnist_testset.data[:test_size].reshape(test_size,1,28,28).float()\n",
    "y_test = mnist_testset.targets[:test_size]\n",
    "\n",
    "\n",
    "del mnist_trainset,mnist_testset\n",
    "\n",
    "\n",
    "x_train.div_(255)\n",
    "x_valid.div_(255)\n",
    "x_test.div_(255)\n",
    "\n",
    "print('yes')"
   ]
  },
  {
   "cell_type": "markdown",
   "metadata": {},
   "source": [
    "# Define Model"
   ]
  },
  {
   "cell_type": "code",
   "execution_count": 15,
   "metadata": {},
   "outputs": [
    {
     "data": {
      "text/plain": [
       "25"
      ]
     },
     "execution_count": 15,
     "metadata": {},
     "output_type": "execute_result"
    }
   ],
   "source": [
    "def compute_conv_dim(dim_size,kernel_size,padding,stride):\n",
    "    return int((dim_size - kernel_size + 2 * padding) / stride + 1)\n",
    "\n",
    "\n",
    "compute_conv_dim(26,2,0,1)"
   ]
  },
  {
   "cell_type": "code",
   "execution_count": 16,
   "metadata": {},
   "outputs": [],
   "source": [
    "num_classes = 10\n",
    "channels = x_train.shape[1]\n",
    "conv_channels=32\n",
    "hidden_features=100\n",
    "\n",
    "def compute_conv_dim(dim_size,kernel_size,padding,stride):\n",
    "    return int((dim_size - kernel_size + 2 * padding) / stride + 1)\n",
    "\n",
    "\n",
    "class Net(nn.Module):\n",
    "    def __init__(self):\n",
    "        super(Net,self).__init__()\n",
    "        \n",
    "        self.conv1 = nn.Conv2d(in_channels=channels,\n",
    "                                          out_channels = conv_channels,\n",
    "                                          kernel_size=3,\n",
    "                                          stride = 1)\n",
    "        \n",
    "        conv_dim_conv1 = compute_conv_dim(28,3,0,1)\n",
    "        \n",
    "        self.pool1 = nn.MaxPool2d(kernel_size=2,stride=1)\n",
    "        \n",
    "        conv_dim_pool1 = compute_conv_dim(conv_dim_conv1,2,0,1)\n",
    "        \n",
    "        self.l1_in_features = conv_channels*conv_dim_pool1**2\n",
    "        \n",
    "        self.line1 = nn.Linear(in_features=self.l1_in_features,\n",
    "                              out_features= hidden_features,\n",
    "                              bias=True)\n",
    "        \n",
    "        self.lineout = nn.Linear(in_features=hidden_features,\n",
    "                              out_features= num_classes,\n",
    "                              bias=True)\n",
    "        \n",
    "    def forward(self,x):\n",
    "        x = self.conv1(x)\n",
    "        x = self.pool1(x)\n",
    "        x = x.view(-1,self.l1_in_features)\n",
    "        x = nn.functional.relu(self.line1(x))\n",
    "        x = nn.functional.softmax(self.lineout(x),dim=0)\n",
    "        \n",
    "        return x\n",
    "    \n",
    "model = Net()"
   ]
  },
  {
   "cell_type": "code",
   "execution_count": 17,
   "metadata": {},
   "outputs": [
    {
     "data": {
      "text/plain": [
       "Net(\n",
       "  (conv1): Conv2d(1, 32, kernel_size=(3, 3), stride=(1, 1))\n",
       "  (pool1): MaxPool2d(kernel_size=2, stride=1, padding=0, dilation=1, ceil_mode=False)\n",
       "  (line1): Linear(in_features=20000, out_features=100, bias=True)\n",
       "  (lineout): Linear(in_features=100, out_features=10, bias=True)\n",
       ")"
      ]
     },
     "execution_count": 17,
     "metadata": {},
     "output_type": "execute_result"
    }
   ],
   "source": [
    "model"
   ]
  },
  {
   "cell_type": "markdown",
   "metadata": {},
   "source": [
    "\n",
    "# Training loop"
   ]
  },
  {
   "cell_type": "code",
   "execution_count": 18,
   "metadata": {},
   "outputs": [],
   "source": [
    "criterion = nn.CrossEntropyLoss()\n",
    "optimizer = optim.SGD(model.parameters(), lr=0.01,momentum=0.9)"
   ]
  },
  {
   "cell_type": "code",
   "execution_count": 19,
   "metadata": {},
   "outputs": [
    {
     "name": "stderr",
     "output_type": "stream",
     "text": [
      "/Users/Morten/anaconda3/lib/python3.7/site-packages/ipykernel_launcher.py:40: UserWarning: Implicit dimension choice for softmax has been deprecated. Change the call to include dim=X as an argument.\n"
     ]
    },
    {
     "name": "stdout",
     "output_type": "stream",
     "text": [
      "Epoch  1 : Train Loss 0.076669 , Train acc 0.282667, Valid acc 0.257333\n",
      "Epoch 11 : Train Loss 0.056390 , Train acc 0.822667, Valid acc 0.819333\n",
      "Epoch 21 : Train Loss 0.053127 , Train acc 0.910333, Valid acc 0.893333\n",
      "Epoch 31 : Train Loss 0.051682 , Train acc 0.929667, Valid acc 0.910667\n",
      "Epoch 41 : Train Loss 0.051188 , Train acc 0.942667, Valid acc 0.917333\n",
      "Epoch 51 : Train Loss 0.050891 , Train acc 0.947333, Valid acc 0.923333\n",
      "Epoch 61 : Train Loss 0.050674 , Train acc 0.952000, Valid acc 0.924667\n",
      "Epoch 71 : Train Loss 0.050489 , Train acc 0.956333, Valid acc 0.928000\n",
      "Epoch 81 : Train Loss 0.050326 , Train acc 0.960333, Valid acc 0.930000\n",
      "Epoch 91 : Train Loss 0.050171 , Train acc 0.964667, Valid acc 0.932000\n",
      "Epoch 101 : Train Loss 0.050065 , Train acc 0.965667, Valid acc 0.930667\n",
      "Epoch 111 : Train Loss 0.049980 , Train acc 0.967333, Valid acc 0.933333\n",
      "Epoch 121 : Train Loss 0.049907 , Train acc 0.969667, Valid acc 0.930000\n",
      "Epoch 131 : Train Loss 0.049839 , Train acc 0.971000, Valid acc 0.929333\n",
      "Epoch 141 : Train Loss 0.049797 , Train acc 0.971333, Valid acc 0.930000\n",
      "Epoch 151 : Train Loss 0.049765 , Train acc 0.971333, Valid acc 0.930000\n",
      "Epoch 161 : Train Loss 0.049733 , Train acc 0.972333, Valid acc 0.929333\n",
      "Epoch 171 : Train Loss 0.049701 , Train acc 0.973000, Valid acc 0.931333\n",
      "Epoch 181 : Train Loss 0.049680 , Train acc 0.973333, Valid acc 0.931333\n",
      "Epoch 191 : Train Loss 0.049663 , Train acc 0.973333, Valid acc 0.931333\n"
     ]
    },
    {
     "data": {
      "text/plain": [
       "(Text(0.5, 0, 'Updates'), Text(0, 0.5, 'Acc'))"
      ]
     },
     "execution_count": 19,
     "metadata": {},
     "output_type": "execute_result"
    },
    {
     "data": {
      "image/png": "[encoded data removed]",
      "text/plain": [
       "<Figure size 432x288 with 1 Axes>"
      ]
     },
     "metadata": {
      "needs_background": "light"
     },
     "output_type": "display_data"
    }
   ],
   "source": [
    "# setting hyperparameters and gettings epoch sizes\n",
    "batch_size = 300\n",
    "num_epochs = 200\n",
    "num_samples_train = x_train.shape[0]\n",
    "num_batches_train = num_samples_train // batch_size\n",
    "num_samples_valid = x_valid.shape[0]\n",
    "num_batches_valid = num_samples_valid // batch_size\n",
    "\n",
    "# setting up lists for handling loss/accuracy\n",
    "train_acc, train_loss = [], []\n",
    "valid_acc, valid_loss = [], []\n",
    "test_acc, test_loss = [], []\n",
    "cur_loss = 0\n",
    "losses = []\n",
    "\n",
    "get_slice = lambda i, size: range(i * size, (i + 1) * size)\n",
    "\n",
    "\n",
    "for epoch in range(num_epochs):\n",
    "    cur_loss = 0\n",
    "    model.train()\n",
    "    for i in range(num_batches_train):\n",
    "        optimizer.zero_grad()\n",
    "        slce = get_slice(i, batch_size)\n",
    "        output = model(x_train[slce])\n",
    "        \n",
    "        # compute gradients given loss\n",
    "        target_batch = y_train[slce]\n",
    "        batch_loss = criterion(output, target_batch)\n",
    "        batch_loss.backward()\n",
    "        optimizer.step()\n",
    "        \n",
    "        cur_loss += batch_loss   \n",
    "    losses.append(cur_loss / batch_size)\n",
    "\n",
    "    model.eval()\n",
    "    ### Evaluate training\n",
    "    train_preds, train_targs = [], []\n",
    "    for i in range(num_batches_train):\n",
    "        slce = get_slice(i, batch_size)\n",
    "        output = model(x_train[slce])\n",
    "        \n",
    "        preds = torch.max(output, 1)[1]\n",
    "        \n",
    "        train_targs += list(y_train[slce].numpy())\n",
    "        train_preds += list(preds.data.numpy())\n",
    "    \n",
    "    ### Evaluate validation\n",
    "    val_preds, val_targs = [], []\n",
    "    for i in range(num_batches_valid):\n",
    "        slce = get_slice(i, batch_size)\n",
    "        \n",
    "        output = model(x_valid[slce])\n",
    "        preds = torch.max(output, 1)[1]\n",
    "        val_targs += list(y_valid[slce].numpy())\n",
    "        val_preds += list(preds.data.numpy())\n",
    "        \n",
    "\n",
    "    train_acc_cur = accuracy_score(train_targs, train_preds)\n",
    "    valid_acc_cur = accuracy_score(val_targs, val_preds)\n",
    "    \n",
    "    train_acc.append(train_acc_cur)\n",
    "    valid_acc.append(valid_acc_cur)\n",
    "    \n",
    "    if epoch % 10 == 0:\n",
    "        print(\"Epoch %2i : Train Loss %f , Train acc %f, Valid acc %f\" % (\n",
    "                epoch+1, losses[-1], train_acc_cur, valid_acc_cur))\n",
    "\n",
    "epoch = np.arange(len(train_acc))\n",
    "plt.figure()\n",
    "plt.plot(epoch, train_acc, 'r', epoch, valid_acc, 'b')\n",
    "plt.legend(['Train Accucary','Validation Accuracy'])\n",
    "plt.xlabel('Updates'), plt.ylabel('Acc')    "
   ]
  },
  {
   "cell_type": "code",
   "execution_count": 39,
   "metadata": {},
   "outputs": [],
   "source": [
    "torch.save(model.state_dict(), \"models/small_model\")"
   ]
  },
  {
   "cell_type": "markdown",
   "metadata": {},
   "source": [
    "# SAVE MODEL"
   ]
  },
  {
   "cell_type": "markdown",
   "metadata": {},
   "source": [
    "# LR Scheduler"
   ]
  },
  {
   "cell_type": "code",
   "execution_count": 70,
   "metadata": {},
   "outputs": [],
   "source": []
  },
  {
   "cell_type": "code",
   "execution_count": 77,
   "metadata": {},
   "outputs": [
    {
     "data": {
      "text/plain": [
       "[<matplotlib.lines.Line2D at 0x7fedd84bb550>]"
      ]
     },
     "execution_count": 77,
     "metadata": {},
     "output_type": "execute_result"
    },
    {
     "data": {
      "image/png": "[encoded data removed]",
      "text/plain": [
       "<Figure size 432x288 with 1 Axes>"
      ]
     },
     "metadata": {
      "needs_background": "light"
     },
     "output_type": "display_data"
    }
   ],
   "source": [
    "\n",
    "\n",
    "temp_model = torch.nn.Linear(2, 1)\n",
    "optimizer = torch.optim.SGD(temp_model.parameters(), lr=a1)\n",
    "scheduler = torch.optim.lr_scheduler.LambdaLR(optimizer, lr_lambda=_a)\n",
    "\n",
    "\n",
    "lrs = []\n",
    "\n",
    "for i in range(n):\n",
    "    optimizer.step()\n",
    "    lrs.append(optimizer.param_groups[0][\"lr\"])\n",
    "#     print(\"Factor = \", round(0.65 ** i,3),\" , Learning Rate = \",round(optimizer.param_groups[0][\"lr\"],3))\n",
    "    scheduler.step()\n",
    "\n",
    "plt.plot(range(n),lrs)"
   ]
  },
  {
   "cell_type": "markdown",
   "metadata": {},
   "source": [
    "# SWA Training"
   ]
  },
  {
   "cell_type": "code",
   "execution_count": null,
   "metadata": {},
   "outputs": [
    {
     "name": "stderr",
     "output_type": "stream",
     "text": [
      "/Users/Morten/anaconda3/lib/python3.7/site-packages/ipykernel_launcher.py:40: UserWarning: Implicit dimension choice for softmax has been deprecated. Change the call to include dim=X as an argument.\n"
     ]
    },
    {
     "name": "stdout",
     "output_type": "stream",
     "text": [
      "Epoch  1 : Train Loss 0.506026 , Train acc 0.799333, Valid acc 0.771333\n",
      "Epoch  6 : Train Loss 0.459506 , Train acc 0.957333, Valid acc 0.925333\n"
     ]
    }
   ],
   "source": [
    "model = Net()\n",
    "model.load_state_dict(torch.load(\"models/small_model\"))\n",
    "model.train()\n",
    "\n",
    "\n",
    "#SWA VARIABLES\n",
    "batch_size = 100\n",
    "num_epochs_per_cycle = 5\n",
    "num_cycles = 4\n",
    "\n",
    "\n",
    "\n",
    "a1 = 0.5\n",
    "a2 = 0.0001\n",
    "\n",
    "\n",
    "num_bat = x_train.shape[0] // batch_size\n",
    "\n",
    "c = num_epochs_per_cycle*num_bat\n",
    "n = c*num_cycles\n",
    "\n",
    "_t = lambda i: (1/c)*(((i)%c)+1)\n",
    "\n",
    "_a = lambda i: (1-_t(i))*a1 + _t(i)*a2\n",
    "\n",
    "\n",
    "\n",
    "\n",
    "\n",
    "\n",
    "\n",
    "# setting hyperparameters and gettings epoch sizes\n",
    "batch_size = batch_size\n",
    "num_epochs = num_epochs_per_cycle*num_cycles\n",
    "num_samples_train = x_train.shape[0]\n",
    "num_batches_train = num_samples_train // batch_size\n",
    "num_samples_valid = x_valid.shape[0]\n",
    "num_batches_valid = num_samples_valid // batch_size\n",
    "\n",
    "# setting up lists for handling loss/accuracy\n",
    "train_acc, train_loss = [], []\n",
    "valid_acc, valid_loss = [], []\n",
    "test_acc, test_loss = [], []\n",
    "cur_loss = 0\n",
    "losses = []\n",
    "\n",
    "get_slice = lambda i, size: range(i * size, (i + 1) * size)\n",
    "\n",
    "lrs = []\n",
    "\n",
    "\n",
    "#SWA OPTIMIZERS\n",
    "optimizer = torch.optim.SGD([p for p in model.parameters() if p.requires_grad], lr=a1)\n",
    "scheduler = torch.optim.lr_scheduler.LambdaLR(optimizer, lr_lambda=_a)\n",
    "\n",
    "\n",
    "#SWA model params\n",
    "#Spørg Niki\n",
    "w_swa = [p.data.clone() for p in model.parameters() if p.requires_grad]\n",
    "\n",
    "\n",
    "\n",
    "\n",
    "n_counter = 1\n",
    "for epoch in range(num_epochs):\n",
    "    cur_loss = 0\n",
    "    model.train()\n",
    "    for i in range(num_batches_train):\n",
    "        lrs.append(optimizer.param_groups[0][\"lr\"])\n",
    "        \n",
    "        optimizer.zero_grad()\n",
    "        slce = get_slice(i, batch_size)\n",
    "        output = model(x_train[slce])\n",
    "        \n",
    "        # compute gradients given loss\n",
    "        target_batch = y_train[slce]\n",
    "        batch_loss = criterion(output, target_batch)\n",
    "        batch_loss.backward()\n",
    "        optimizer.step()\n",
    "        scheduler.step()\n",
    "        \n",
    "        cur_loss += batch_loss  \n",
    "        \n",
    "        ##############################################\n",
    "        ################# $$ SWA $$ ##################\n",
    "        ##############################################\n",
    "        if n_counter % c == 0:\n",
    "            n_models = n_counter/c\n",
    "        \n",
    "            ct = 0\n",
    "            for p in model.parameters():\n",
    "                if p.requires_grad:\n",
    "                    w_swa[ct] = (w_swa[ct]*n_models + p.data) / (n_models+1)\n",
    "                    ct+=1\n",
    "        \n",
    "        ##############################################   \n",
    "        n_counter+=1\n",
    "        \n",
    "        \n",
    "        \n",
    "    losses.append(cur_loss / batch_size)\n",
    "\n",
    "    model.eval()\n",
    "    ### Evaluate training\n",
    "    train_preds, train_targs = [], []\n",
    "    for i in range(num_batches_train):\n",
    "        slce = get_slice(i, batch_size)\n",
    "        output = model(x_train[slce])\n",
    "        \n",
    "        preds = torch.max(output, 1)[1]\n",
    "        \n",
    "        train_targs += list(y_train[slce].numpy())\n",
    "        train_preds += list(preds.data.numpy())\n",
    "    \n",
    "    ### Evaluate validation\n",
    "    val_preds, val_targs = [], []\n",
    "    for i in range(num_batches_valid):\n",
    "        slce = get_slice(i, batch_size)\n",
    "        \n",
    "        output = model(x_valid[slce])\n",
    "        preds = torch.max(output, 1)[1]\n",
    "        val_targs += list(y_valid[slce].numpy())\n",
    "        val_preds += list(preds.data.numpy())\n",
    "        \n",
    "\n",
    "    train_acc_cur = accuracy_score(train_targs, train_preds)\n",
    "    valid_acc_cur = accuracy_score(val_targs, val_preds)\n",
    "    \n",
    "    train_acc.append(train_acc_cur)\n",
    "    valid_acc.append(valid_acc_cur)\n",
    "    \n",
    "    if epoch % 5 == 0:\n",
    "        print(\"Epoch %2i : Train Loss %f , Train acc %f, Valid acc %f\" % (\n",
    "                epoch+1, losses[-1], train_acc_cur, valid_acc_cur))\n",
    "\n",
    "epoch = np.arange(len(train_acc))\n",
    "plt.figure()\n",
    "plt.plot(epoch, train_acc, 'r', epoch, valid_acc, 'b')\n",
    "plt.legend(['Train Accucary','Validation Accuracy'])\n",
    "plt.xlabel('Updates'), plt.ylabel('Acc')  \n"
   ]
  },
  {
   "cell_type": "code",
   "execution_count": null,
   "metadata": {},
   "outputs": [],
   "source": []
  }
 ],
 "metadata": {
  "kernelspec": {
   "display_name": "Python 3",
   "language": "python",
   "name": "python3"
  },
  "language_info": {
   "codemirror_mode": {
    "name": "ipython",
    "version": 3
   },
   "file_extension": ".py",
   "mimetype": "text/x-python",
   "name": "python",
   "nbconvert_exporter": "python",
   "pygments_lexer": "ipython3",
   "version": "3.7.6"
  }
 },
 "nbformat": 4,
 "nbformat_minor": 4
}
